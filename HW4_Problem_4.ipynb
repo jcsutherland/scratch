{
 "cells": [
  {
   "cell_type": "markdown",
   "metadata": {},
   "source": [
    "<div style=\"text-align: center\">\n",
    "<b><font size=6>ChEn 3603 Homework 4 Problem 4\n",
    "    </font></b>\n",
    "</div>\n",
    "\n",
    "<div class=\"alert alert-block alert-danger\">\n",
    "\n",
    "&copy; 2020 This material is copyright protected. Distributing this material in any form without written permission from Professor Sutherland is prohibited and may result in academic discipline including dismissal from the chemical engineering program and potentially from the university."
   ]
  },
  {
   "cell_type": "markdown",
   "metadata": {},
   "source": [
    "# Preliminaries\n",
    "\n",
    "We are interested in calculating the time for a beaker of benzene to evaporate completely.\n",
    "The following picture illustrates the coordinate system we will adopt.\n",
    "\n",
    "![beaker diagram](beaker.png)\n",
    "\n",
    "Note that the initial height of the liquid in the beaker is $h=H-L$ or $z=L$."
   ]
  },
  {
   "cell_type": "markdown",
   "metadata": {},
   "source": [
    "From the lecture notes, we know that\n",
    "\\begin{equation}\n",
    "    N_A = \\frac{c D_{AB}}{z-z_0}\\ln\\left(\\frac{1-x_A}{1-x_A^0} \\right)  \n",
    "    \\label{eq:Na}\n",
    "\\end{equation}"
   ]
  },
  {
   "cell_type": "code",
   "execution_count": 1,
   "metadata": {},
   "outputs": [],
   "source": [
    "import numpy as np\n",
    "\n",
    "def antoine( a, T ):\n",
    "    #\n",
    "    # Ps = antoine( a, T )\n",
    "    #\n",
    "    # Uses Antoine's equation to obtain the vapor pressure of a substance given\n",
    "    # the coefficients of the equation:\n",
    "    #  Ps = a1 - a2/(a3+T)\n",
    "    #\n",
    "    # INPUTS:\n",
    "    #  a - the antoine coefficients with coeffients in columns and species in\n",
    "    #      rows. Typically with T in Celsius and P in mmHg.\n",
    "    #  T - the temperature to evaluate the vapor pressure at.  Typically in C\n",
    "    #\n",
    "    # OUTPUT:\n",
    "    #  Ps - row vector of species vapor pressures at the specified temperature,\n",
    "    #       typically in mmHg.\n",
    "    #\n",
    "    # The units depend on the units used for the coefficients.  The user is\n",
    "    # responsible for maintaining consistency with units.  Customarily,\n",
    "    # coefficients are supplied for pressure in mmHg and T in Celsius.\n",
    "\n",
    "    Ps = 10.0**( a[:,0]-a[:,1] / ( a[:,2] + T ) )\n",
    "    return Ps.squeeze()  # if a is a vector rather than a matrix, return a scalar"
   ]
  },
  {
   "cell_type": "markdown",
   "metadata": {},
   "source": [
    "# Part 1\n",
    "\n",
    "We begin with the mole balance for species $A$ in the _liquid phase_:\n",
    "$$\n",
    "    \\d{}{t}\\int_\\mathsf{V}{c_{i}}=-\\int_\\mathsf{S}{\\mathbf{N}_{i}}+\\int_\\mathsf{V}{S_{i}},\n",
    "$$\n",
    "we simplify due to no reaction and rewrite the fluxes as a total species flux rather than diffusive and convective components to find \n",
    "\\begin{equation}\n",
    "    \\d{}{t}\\int_\\mathsf{V}{c_{A}^{\\ell}}=-\\int_\\mathsf{S}{N_{A}}\n",
    "    \\label{eq:liquid-balance}\n",
    "\\end{equation}\n",
    "Here, the $\\ell$ superscript reminds us that we are describing the _liquid_ phase concentration.\n",
    "\n",
    "A few observations:\n",
    " * $V=hA_{c}$ where $h=H-z$ is the liquid height and the cross-sectional area, $A_{c}$, is constant. \n",
    "\n",
    " * The outward-pointed unit-normal is in the $-z$ direction since $+z$ is downward (consistent with SHR example 3.2), thus $N_{A}\\cdot\\mathbf{a}=-N_{A}$. \n",
    "\n",
    " * The only flux is across the gas-liquid surface. \n",
    "\n",
    " * The concentration in the _liquid_, $c_{A}^{\\ell}$, is constant in space and time.\n",
    "\n",
    "Therefore, \\eqref{eq:liquid-balance} becomes\n",
    "\\begin{align}\n",
    "    c_{A}^{\\ell}A_{c}\\d{h}{t}\t&=\tN_{A}A_{c}, \\nonumber \\\\\n",
    "    \\d{h}{t}\t&=\t\\frac{N_{A}}{c_{A}^{\\ell}}. \\label{eq:dhdt} \n",
    "\\end{align}\n",
    "\n"
   ]
  },
  {
   "cell_type": "code",
   "execution_count": 2,
   "metadata": {},
   "outputs": [],
   "source": [
    "T = 25+273.15  # temperature, K\n",
    "P = 101325     # pressure, Pa\n",
    "L = 0.005      # diffusion path length, m\n",
    "H = 0.06       # initial liquid height, m\n",
    "\n",
    "xa  = 1.0      # benzene mole fraction in liquid\n",
    "ya0 = 0.0      # benzene mole fraction at top of beaker (z=0)\n",
    "\n",
    "caL = 0.874*100**3 / (12*6+6) # molar concentration for liquid benzene\n",
    "\n",
    "R = 8.315      # gas constant, (Pa m^3)/(mol K)\n",
    "c = P/(R*T)    # molar concentration\n",
    "\n",
    "Dab = 0.0905 * 100**-2  # diffusivity, m^2/s\n",
    "\n",
    "# Benzene antoine equation coefficients\n",
    "coefs = np.array([[ 4.01814, 1203.835, -53.226 ]])"
   ]
  },
  {
   "cell_type": "markdown",
   "metadata": {},
   "source": [
    "Benzene Antoine equation parameters were obtained from the [NIST webbook](https://webbook.nist.gov/cgi/cbook.cgi?ID=C71432&Units=SI&Mask=4#Thermo-Phase)"
   ]
  },
  {
   "cell_type": "markdown",
   "metadata": {},
   "source": [
    "We need to get a value for $N_A$.\n",
    "To do that, we need the vapor mole fraction of benzene.\n",
    "We use phase equilibrium conditions to get the Benzene mole fraction at the vapor side of the liquid interface:"
   ]
  },
  {
   "cell_type": "code",
   "execution_count": 3,
   "metadata": {},
   "outputs": [],
   "source": [
    "Pa = antoine( coefs, T )  # T in K and P in bar\n",
    "Pa *= 1e5  # convert from bar back to Pa\n",
    "\n",
    "# K-value from Raoult's law:\n",
    "Ka = Pa / P\n",
    "\n",
    "yaL = xa * Ka  # benzene mole fraction in vapor at z=L.  We are calling this x_A^L in the equations"
   ]
  },
  {
   "cell_type": "markdown",
   "metadata": {},
   "source": [
    "We can get a rough estimate of the time to evaporate all of the fluid by assuming $N_{A}$ is constant in time in \\eqref{eq:dhdt}. \n",
    "Integrating this gives\n",
    "\\begin{align}\n",
    "    \\int_{H-L}^{0} dh &= \\frac{N_A}{c_A^\\ell} \\int_{0}^t dt \\nonumber \\\\\n",
    "    L-H\t&=\t\\frac{ N_{A} }{ c_{A}^{\\ell} } t \\nonumber \\\\\n",
    "    t\t&=\t\\frac{ c_{A}^{\\ell} \\left( L - H \\right)}{ N_{A} } \\label{eq:t-rough}\n",
    "\\end{align}\n",
    "where $N_A$ is found from \\eqref{eq:Na}."
   ]
  },
  {
   "cell_type": "code",
   "execution_count": 4,
   "metadata": {},
   "outputs": [
    {
     "name": "stdout",
     "output_type": "stream",
     "text": [
      "Rough estimate for time to go dry: 17.3 hours\n"
     ]
    }
   ],
   "source": [
    "# determine Na\n",
    "Na = c*Dab / L * np.log( (1 - yaL) / (1 - ya0) )\n",
    "t = caL * (L-H) / Na\n",
    "# print(Na)\n",
    "print('Rough estimate for time to go dry: {:.1f} hours'.format(t/3600))"
   ]
  },
  {
   "cell_type": "markdown",
   "metadata": {},
   "source": [
    "# Part 2\n",
    "\n",
    "From \\eqref{eq:Na}, we know that $N_{A}$ is a function of $z$ (and therefore of $h$).\n",
    "We need to express this dependence before we can integrate \\eqref{eq:dhdt}.\n",
    "\n",
    "We can change variables between $h$ and $z$ by differentiating the relationship between them:\n",
    "$$\n",
    "    h = H-z \\quad \\implies \\quad dh = -dz.\n",
    "$$\n",
    "This should match intuition since as $h$ increases, $z$ decreases (given our coordinate choice for $z$).\n",
    "Making this change of variables, \\eqref{eq:dhdt} becomes\n",
    "\\begin{equation}\n",
    "    \\d{z}{t} = -\\frac{N_{A}}{c_{a}^{\\ell}} \\label{eq:dzdt}\n",
    "\\end{equation}\n",
    "Now substituting \\eqref{eq:Na}, we have\n",
    "$$\n",
    "    \\d{z}{t} = -\\frac{c D_{AB}}{c_{A}^{\\ell} z} \\ln\\left( 1 - x_{A}^{L} \\right).\n",
    "$$\n",
    "Here $c$ is the vapor molar concentration while $c^{\\ell}$ is the liquid phase molar concentration. \n",
    "This can be separated and integrated as follows:\n",
    "\\begin{align}\n",
    "    \\int_{L}^{H}z\\,dz\t&=\t-\\frac{cD_{AB}}{c_{A}^{\\ell}}\\ln\\left(1-x_{A}^{L}\\right)\\int_{0}^{t}dt, \\\\\n",
    "    \\frac{H^{2}-L^{2}}{2}\t&=\t-\\frac{cD_{AB}}{c_{A}^{\\ell}}\\ln\\left(1-x_{A}^{L}\\right)t \\\\\n",
    "    t\t&=\t\\boxed{ \\frac{ c_{A}^{\\ell} \\left( L^{2} - H^{2} \\right) }{ 2 c D_{AB} \\ln\\left( 1 - x_{A}^{L} \\right)} } \\label{eq:t-rigorous}\n",
    "\\end{align}"
   ]
  },
  {
   "cell_type": "code",
   "execution_count": 5,
   "metadata": {},
   "outputs": [
    {
     "name": "stdout",
     "output_type": "stream",
     "text": [
      "Our more rigorous estimate of the time to go dry: 112.5 hours\n"
     ]
    }
   ],
   "source": [
    "tdry = caL * (L**2 - H**2) / ( 2*c*Dab * np.log(1-yaL) )\n",
    "print('Our more rigorous estimate of the time to go dry: {:.1f} hours'.format(tdry/3600))"
   ]
  },
  {
   "cell_type": "markdown",
   "metadata": {},
   "source": [
    "## Alternative approach for Part 2\n",
    "\n",
    "An alternative way of solving this is to start with \\eqref{eq:dhdt} and substitute out for $z=H-h$ in \\eqref{eq:Na} to find \n",
    "$$\n",
    "    \\d{h}{t} = \\frac{N_{A}}{c_{A}^{\\ell}} = \\frac{cD_{AB}}{c_{A}^{\\ell}\\left(H-h\\right)}\\ln\\left(1-x_{A}^{L}\\right) \n",
    "$$\n",
    "which we may separated and integrated to find \n",
    "\\begin{align}\n",
    "    \\int_{H-L}^{0}\\left(H-h\\right)dh\t&=\t\\frac{cD_{AB}}{c_{A}^{\\ell}}\\ln\\left(1-x_{A}^{L}\\right)\\int_{0}^{t}dt, \\\\\n",
    "    -H\\left(H-L\\right)+\\frac{\\left(H-L\\right)^{2}}{2}\t&=\t\\frac{cD_{AB}}{c_{A}^{\\ell}}\\ln\\left(1-x_{A}^{L}\\right)t \\\\\n",
    "    \\frac{L^{2}-H^{2}}{2}\t&=\t\\frac{cD_{AB}}{c_{A}^{\\ell}}\\ln\\left(1-x_{A}^{L}\\right)t \\\\\n",
    "    t\t&=\t\\frac{c_{A}^{\\ell}\\left(L^{2}-H^{2}\\right)}{2cD_{AB}\\ln\\left(1-x_{A}^{L}\\right)},\n",
    "\\end{align}\n",
    "which is the same result as before.\n",
    "Notice that the bounds on the integral change because of the different frame of reference for $h$ than for $z$."
   ]
  },
  {
   "cell_type": "markdown",
   "metadata": {},
   "source": [
    "## Discussion\n",
    "\n",
    "The dramatic difference in these answers is due to the increase in the diffusion path length as the beaker empties, which decreases $N_{A}$ as can be seen in \\eqref{eq:Na}. \n",
    "The effect of this is to _significantly_ increase the time that is required for the liquid to fully vaporize. "
   ]
  }
 ],
 "metadata": {
  "hide_input": false,
  "kernelspec": {
   "display_name": "Python 3",
   "language": "python",
   "name": "python3"
  },
  "language_info": {
   "codemirror_mode": {
    "name": "ipython",
    "version": 3
   },
   "file_extension": ".py",
   "mimetype": "text/x-python",
   "name": "python",
   "nbconvert_exporter": "python",
   "pygments_lexer": "ipython3",
   "version": "3.7.6"
  },
  "latex_envs": {
   "LaTeX_envs_menu_present": true,
   "autoclose": false,
   "autocomplete": false,
   "bibliofile": "biblio.bib",
   "cite_by": "apalike",
   "current_citInitial": 1,
   "eqLabelWithNumbers": true,
   "eqNumInitial": 1,
   "hotkeys": {
    "equation": "Ctrl-E",
    "itemize": "Ctrl-I"
   },
   "labels_anchors": false,
   "latex_user_defs": false,
   "report_style_numbering": false,
   "user_envs_cfg": false
  },
  "toc": {
   "base_numbering": 1,
   "colors": {
    "hover_highlight": "#DAA520",
    "navigate_num": "#000000",
    "navigate_text": "#333333",
    "running_highlight": "#FF0000",
    "selected_highlight": "#FFD700",
    "sidebar_border": "#EEEEEE",
    "wrapper_background": "#FFFFFF"
   },
   "moveMenuLeft": true,
   "nav_menu": {
    "height": "102px",
    "width": "252px"
   },
   "navigate_menu": true,
   "number_sections": false,
   "sideBar": true,
   "skip_h1_title": false,
   "threshold": 4,
   "title_cell": "Table of Contents",
   "title_sidebar": "Contents",
   "toc_cell": false,
   "toc_position": {},
   "toc_section_display": "block",
   "toc_window_display": false,
   "widenNotebook": false
  },
  "varInspector": {
   "cols": {
    "lenName": 16,
    "lenType": 16,
    "lenVar": 40
   },
   "kernels_config": {
    "python": {
     "delete_cmd_postfix": "",
     "delete_cmd_prefix": "del ",
     "library": "var_list.py",
     "varRefreshCmd": "print(var_dic_list())"
    },
    "r": {
     "delete_cmd_postfix": ") ",
     "delete_cmd_prefix": "rm(",
     "library": "var_list.r",
     "varRefreshCmd": "cat(var_dic_list()) "
    }
   },
   "types_to_exclude": [
    "module",
    "function",
    "builtin_function_or_method",
    "instance",
    "_Feature"
   ],
   "window_display": false
  }
 },
 "nbformat": 4,
 "nbformat_minor": 2
}
